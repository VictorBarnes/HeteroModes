{
 "cells": [
  {
   "cell_type": "code",
   "execution_count": null,
   "metadata": {},
   "outputs": [],
   "source": [
    "import h5py\n",
    "import numpy as np\n",
    "import matplotlib.pyplot as plt\n",
    "from neuromaps.datasets import fetch_fslr\n",
    "from heteromodes.plotting import plot_heatmap, plot_brain\n",
    "from heteromodes.utils import unmask"
   ]
  },
  {
   "cell_type": "code",
   "execution_count": null,
   "metadata": {},
   "outputs": [],
   "source": [
    "with h5py.File(f\"{PROJ_DIR}/data/empirical/HCP_nsubj-255_fc_parc-None_fsLR4k_hemi-L.h5\", \"r\") as f:\n",
    "    emp_fc = f['fc_group'][:]\n",
    "\n",
    "with h5py.File(f\"{PROJ_DIR}/data/empirical/HCP_nsubj-255_complexPhase_parc-None_fsLR4k_hemi-L_freql-0.01_freqh-0.1.h5\", \"r\") as f:\n",
    "    phase_cpcs = f['phase_cpcs_group'][:]\n",
    "    svals_emp = f['svals_group'][:]\n",
    "    medmask = f['medmask'][:]"
   ]
  },
  {
   "cell_type": "code",
   "execution_count": null,
   "metadata": {},
   "outputs": [],
   "source": [
    "plot_heatmap(emp_fc, center=0, cmap=\"seismic\", cbar=True, square=True)\n",
    "plt.show()"
   ]
  },
  {
   "cell_type": "code",
   "execution_count": null,
   "metadata": {},
   "outputs": [],
   "source": [
    "surf_infl = fetch_fslr(\"4k\")[\"inflated\"][0]\n",
    "\n",
    "fig, axs = plt.subplots(1, 3, figsize=(15, 5))\n",
    "labels = [\"1st Complex PC\", \"2nd Complex PC\", \"3rd Complex PC\"]\n",
    "plot_brain(surf_infl, unmask(phase_cpcs[:, :3], medmask), cmap=\"turbo\", cbar=True, ax=[axs[0], axs[1], axs[2]], labels=labels)"
   ]
  },
  {
   "cell_type": "code",
   "execution_count": null,
   "metadata": {},
   "outputs": [],
   "source": [
    "n_comps = 4\n",
    "\n",
    "phase_cpc_comb = np.sum(phase_cpcs[:, :n_comps] * svals_emp[:n_comps], axis=1) / np.sum(svals_emp[:n_comps])\n",
    "\n",
    "fig, ax = plt.subplots(1, 1, figsize=(6, 4))\n",
    "plot_brain(surf_infl, unmask(phase_cpc_comb, medmask), cmap=\"turbo\", cbar=True, ax=ax, labels=[f\"First {n_comps} complex PCs combined\"])"
   ]
  },
  {
   "cell_type": "code",
   "execution_count": null,
   "metadata": {},
   "outputs": [],
   "source": [
    "# Plot svals\n",
    "plt.plot(svals_emp, \".\")\n",
    "plt.xlabel(\"Component\")\n",
    "plt.ylabel(\"Singular Value\")\n",
    "plt.title(\"Singular Values of Complex PCs\")\n",
    "plt.xticks(np.arange(0, len(svals_emp), 1), np.arange(1, len(svals_emp) + 1, 1))\n",
    "plt.show()"
   ]
  }
 ],
 "metadata": {
  "kernelspec": {
   "display_name": "HeteroModes_py39",
   "language": "python",
   "name": "python3"
  },
  "language_info": {
   "codemirror_mode": {
    "name": "ipython",
    "version": 3
   },
   "file_extension": ".py",
   "mimetype": "text/x-python",
   "name": "python",
   "nbconvert_exporter": "python",
   "pygments_lexer": "ipython3",
   "version": "3.9.18"
  }
 },
 "nbformat": 4,
 "nbformat_minor": 2
}
