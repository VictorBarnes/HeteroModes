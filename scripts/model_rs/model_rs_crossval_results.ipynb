{
 "cells": [
  {
   "cell_type": "code",
   "execution_count": 2,
   "metadata": {},
   "outputs": [],
   "source": [
    "import h5py\n",
    "import numpy as np\n",
    "import matplotlib.pyplot as plt\n",
    "import seaborn as sns\n",
    "import json\n",
    "\n",
    "sns.set_theme(style=\"white\")"
   ]
  },
  {
   "cell_type": "code",
   "execution_count": 3,
   "metadata": {},
   "outputs": [],
   "source": [
    "with open(f\"{PROJ_DIR}/scripts/model_rs/results_config.json\", \"r\") as f:\n",
    "    config = json.load(f)\n",
    "\n",
    "id = config[\"id\"]\n",
    "hmap_labels = config[\"hmap_labels\"]\n",
    "hmap_labels_plotting = config[\"hmap_labels_plotting\"]"
   ]
  },
  {
   "cell_type": "code",
   "execution_count": null,
   "metadata": {},
   "outputs": [],
   "source": [
    "edge_fc, node_fc, phase, fc_matrices, phase_maps = [], [], [], [], []\n",
    "alpha_best, r_best = {}, {}\n",
    "for hmap_label in hmap_labels:\n",
    "    file = f\"{PROJ_DIR}/results/model_rs/crossval/id-{id}/{hmap_label}_results.hdf5\"\n",
    "\n",
    "    with h5py.File(file, 'r') as f:\n",
    "        edge_fc.append(np.array(f['edge_fc_test'][:]).flatten())\n",
    "        node_fc.append(np.array(f['node_fc_test'][:]).flatten())\n",
    "        phase.append(np.array(f['phase_test'][:]).flatten())\n",
    "\n",
    "        best_comb = np.mean(np.array(f['best_combs'][:]), axis=0)\n",
    "        alpha_best[hmap_label] = best_comb[0]\n",
    "        r_best[hmap_label] = best_comb[1]\n",
    "\n",
    "        fc_matrices.append(np.mean(np.array(f['fc_matrices'][:]), axis=2))\n",
    "        phase_maps.append(np.mean(np.array(f['phase_maps'][:]), axis=1))\n",
    "\n",
    "print(f\"alpha_best: {alpha_best}\")\n",
    "print(f\"r_best: {r_best}\")"
   ]
  },
  {
   "cell_type": "code",
   "execution_count": null,
   "metadata": {},
   "outputs": [],
   "source": [
    "np.shape(fc_matrices), np.shape(phase_maps)"
   ]
  },
  {
   "cell_type": "markdown",
   "metadata": {},
   "source": [
    "## Evaluation metrics for each model"
   ]
  },
  {
   "cell_type": "code",
   "execution_count": null,
   "metadata": {},
   "outputs": [],
   "source": [
    "import matplotlib as mpl\n",
    "\n",
    "# Set plotting defaults\n",
    "fs_ax = 15\n",
    "fs_title = 20\n",
    "plt.rcParams['xtick.major.size'] = 5\n",
    "plt.rcParams['xtick.major.width'] = 1.5\n",
    "plt.rcParams['xtick.bottom'] = True\n",
    "plt.rcParams['ytick.left'] = True\n",
    "\n",
    "fig, axs = plt.subplots(1, 3, figsize=(25, 5))\n",
    "axs = axs.flatten()\n",
    "\n",
    "pnts = np.linspace(0, np.pi * 2, 24)\n",
    "circ = np.c_[np.sin(pnts) / 2, -np.cos(pnts) / 2]\n",
    "vert = np.r_[circ, circ[::-1] * .7]\n",
    "open_circle = mpl.path.Path(vert)\n",
    "\n",
    "# Plot edge-level fc\n",
    "sns.stripplot(data=edge_fc, ax=axs[0], marker=open_circle, size=4, alpha=0.5, zorder=1, linewidth=0.3)\n",
    "sns.violinplot(data=edge_fc, ax=axs[0], density_norm=\"count\", fill=False, linewidth=2, inner=\"box\", inner_kws={\"box_width\": 5, \"whis_width\": 1, \"color\": \"black\"})\n",
    "# sns.violinplot(data=edge_fc, ax=axs[0], density_norm=\"count\", inner=\"box\")\n",
    "axs[0].set_xticks(ticks=range(len(hmap_labels_plotting)))\n",
    "axs[0].set_xticklabels(labels=hmap_labels_plotting, ha='right', fontsize=15)\n",
    "axs[0].tick_params(axis='x', labelrotation=45)\n",
    "axs[0].tick_params(axis='y', labelsize=fs_ax)\n",
    "axs[0].set_title(\"Edge-level FC fit\", fontsize=fs_title)\n",
    "axs[0].set_xlabel(\"Heterogeneity map\", fontsize=fs_ax)\n",
    "axs[0].set_ylabel(\"Pearson's r\", fontsize=fs_ax)\n",
    "axs[0].spines['top'].set_visible(False)\n",
    "axs[0].spines['right'].set_visible(False)\n",
    "# for i, violin in enumerate(axs[0].collections[:len(hmap_labels)]):  # ::2 to skip the body parts, focusing on the borders\n",
    "#     violin.set_edgecolor(sns.color_palette()[i])\n",
    "#     violin.set_linewidth(2)\n",
    "\n",
    "# Plot node-level fc\n",
    "sns.stripplot(data=node_fc, ax=axs[1], marker=open_circle, size=4, alpha=0.5, zorder=1, linewidth=0.3)\n",
    "sns.violinplot(data=node_fc, ax=axs[1], density_norm=\"count\", fill=False, linewidth=2, inner=\"box\", inner_kws={\"box_width\": 5, \"whis_width\": 1, \"color\": \"black\"})\n",
    "# sns.violinplot(data=node_fc, ax=axs[1], density_norm=\"count\", inner=\"box\")\n",
    "axs[1].set_xticks(ticks=range(len(hmap_labels_plotting)), labels=hmap_labels_plotting, ha='right', fontsize=15)\n",
    "axs[1].tick_params(axis='x', labelrotation=45)\n",
    "axs[1].tick_params(axis='y', labelsize=fs_ax)\n",
    "axs[1].set_title(\"Node-level FC fit\", fontsize=fs_title)\n",
    "axs[1].set_xlabel(\"Heterogeneity map\", fontsize=fs_ax)\n",
    "axs[1].set_ylabel(\"Pearson's r\", fontsize=fs_ax)\n",
    "axs[1].spines['top'].set_visible(False)\n",
    "axs[1].spines['right'].set_visible(False)\n",
    "\n",
    "# Plot phase\n",
    "sns.stripplot(data=phase, ax=axs[2], marker=open_circle, size=4, alpha=0.5, zorder=1, linewidth=0.3)\n",
    "sns.violinplot(data=phase, ax=axs[2], density_norm=\"count\", fill=False, linewidth=2, inner=\"box\", inner_kws={\"box_width\": 5, \"whis_width\": 1, \"color\": \"black\"})\n",
    "# sns.violinplot(data=phase, ax=axs[2], density_norm=\"count\", inner=\"box\")\n",
    "axs[2].set_xticks(ticks=range(len(hmap_labels_plotting)), labels=hmap_labels_plotting, ha='right', fontsize=15)\n",
    "axs[2].tick_params(axis='x', labelrotation=45)\n",
    "axs[2].tick_params(axis='y', labelsize=fs_ax)\n",
    "axs[2].set_title(\"Phase fit\", fontsize=fs_title)\n",
    "axs[2].set_xlabel(\"Heterogeneity map\", fontsize=fs_ax)\n",
    "axs[2].set_ylabel(\"Pearson's r\", fontsize=fs_ax)\n",
    "axs[2].spines['top'].set_visible(False)\n",
    "axs[2].spines['right'].set_visible(False)\n",
    "\n",
    "plt.show()"
   ]
  },
  {
   "cell_type": "markdown",
   "metadata": {},
   "source": [
    "## Alpha landscape"
   ]
  },
  {
   "cell_type": "code",
   "execution_count": 17,
   "metadata": {},
   "outputs": [],
   "source": [
    "# Load homogeneous results\n",
    "edge_fc_hom, node_fc_hom, phase_hom = [], [], []\n",
    "\n",
    "file = f\"{PROJ_DIR}/results/model_rs/crossval/id-{id}/None_results.hdf5\"\n",
    "with h5py.File(file, 'r') as f:\n",
    "    edge_fc_hom.append(np.mean(np.array(f['edge_fc_test'][:]).flatten()))\n",
    "    node_fc_hom.append(np.mean(np.array(f['node_fc_test'][:]).flatten()))\n",
    "    phase_hom.append(np.mean(np.array(f['phase_delay_test'][:]).flatten()))"
   ]
  },
  {
   "cell_type": "code",
   "execution_count": 18,
   "metadata": {},
   "outputs": [],
   "source": [
    "edge_fc_land, node_fc_land, phase_land = [], [], []\n",
    "best_alpha = []\n",
    "for i, hmap_label in enumerate(hmap_labels[1:]):\n",
    "    file = f\"{PROJ_DIR}/results/model_rs/crossval/id-{id}/{hmap_label}_results.hdf5\"\n",
    "\n",
    "    # On first iteration, load alpha values\n",
    "    alpha_vals = np.array(h5py.File(file, 'r')['combs'][:, 0])\n",
    "\n",
    "    with h5py.File(file, 'r') as f:\n",
    "        edge_fc_land.append(np.mean(f['edge_fc_train'][:], axis=0))\n",
    "        node_fc_land.append(np.mean(f['node_fc_train'][:], axis=0))\n",
    "        phase_land.append(np.mean(f['phase_delay_train'][:], axis=0))\n",
    "\n",
    "        best_alpha.append(np.mean(f['best_combs'], axis=0)[0])\n",
    "\n",
    "edge_fc_land = np.array(edge_fc_land).T\n",
    "node_fc_land = np.array(node_fc_land).T\n",
    "phase_land = np.array(phase_land).T"
   ]
  },
  {
   "cell_type": "code",
   "execution_count": null,
   "metadata": {},
   "outputs": [],
   "source": [
    "if len(hmap_labels) > 2:\n",
    "    fig, axs  = plt.subplots(1, len(hmap_labels[1:]), figsize=(len(hmap_labels[1:])*9, 6))\n",
    "    axs = axs.flatten()\n",
    "else:\n",
    "    fig, axs  = plt.subplots(1, 1, figsize=(9, 6))\n",
    "    axs = [axs]\n",
    "\n",
    "for i, hmap_label in enumerate(hmap_labels[1:]):\n",
    "    # Plot homogeneous\n",
    "    axs[i].axhline(edge_fc_hom, label=\"Edge FC (Hom.)\", linestyle=\"--\", color=\"tab:blue\")\n",
    "    axs[i].axhline(node_fc_hom, label=\"Node FC (Hom.)\", linestyle=\"--\", color=\"tab:orange\")\n",
    "    axs[i].axhline(phase_hom, label=\"Phase (Hom.)\", linestyle=\"--\", color=\"tab:green\")\n",
    "\n",
    "    # Plot heterogeneous\n",
    "    axs[i].plot(alpha_vals, np.array(edge_fc_land[:, i]), label=\"Edge FC (Het.)\")\n",
    "    axs[i].plot(alpha_vals, np.array(node_fc_land[:, i]), label=\"Node FC (Het.)\")\n",
    "    axs[i].plot(alpha_vals, np.array(phase_land[:, i]), label=\"Phase (Het.)\")\n",
    "\n",
    "    # Plot best alpha\n",
    "    axs[i].axvline(best_alpha[i], linestyle=\"-.\", color=\"black\", label=\"Best alpha\")\n",
    "\n",
    "    # Set labels\n",
    "    axs[i].set_xticks(alpha_vals)\n",
    "    axs[i].set_xticklabels([f\"{x:.1f}\" for x in alpha_vals], fontsize=9)\n",
    "    axs[i].set_title(hmap_labels[i+1])\n",
    "    axs[i].set_xlabel(\"Alpha\")\n",
    "    axs[i].set_ylabel(\"Pearson's r\")\n",
    "    axs[i].set_ylim(-1, 1)\n",
    "    axs[i].legend()"
   ]
  },
  {
   "cell_type": "markdown",
   "metadata": {},
   "source": [
    "## FC matrices"
   ]
  },
  {
   "cell_type": "code",
   "execution_count": null,
   "metadata": {},
   "outputs": [],
   "source": [
    "# Plot FC (averaged across test runs and splits) for each map\n",
    "hmap_labels_plotting_alpha = [f\"{label}\\n($\\\\alpha$ = {alpha_best[hmap_label]:.2f})\" for label, hmap_label in zip(hmap_labels_plotting, hmap_labels)]\n",
    "\n",
    "fig, axs = plt.subplots(1, len(hmap_labels), figsize=(5*len(hmap_labels), 5))\n",
    "for i, hmap_label in enumerate(hmap_labels):\n",
    "    vmin = np.nanpercentile(fc_matrices[i], 5)\n",
    "    vmax = np.nanpercentile(fc_matrices[i], 95)\n",
    "    sns.heatmap(fc_matrices[i], ax=axs[i], cmap=\"seismic\", center=0, square=True, cbar=True, xticklabels=[], yticklabels=[], cbar_kws=dict(fraction=0.046, pad=0.04))\n",
    "    axs[i].set_title(hmap_labels_plotting_alpha[i], fontsize=25, bbox=dict(facecolor=sns.color_palette(\"husl\", len(hmap_labels))[i], edgecolor='black', boxstyle='round,pad=0.3'), pad=25)\n",
    "    # Set frame around heatmap\n",
    "    for _, spine in axs[i].spines.items():\n",
    "        spine.set_visible(True)\n",
    "        spine.set_color('black')\n",
    "        spine.set_linewidth(1)"
   ]
  },
  {
   "cell_type": "markdown",
   "metadata": {},
   "source": [
    "## Phase maps"
   ]
  },
  {
   "cell_type": "code",
   "execution_count": null,
   "metadata": {},
   "outputs": [],
   "source": [
    "import nibabel as nib\n",
    "from neuromaps.datasets import fetch_atlas\n",
    "from heteromodes.utils import load_hmap, unmask\n",
    "from heteromodes.solver import scale_hmap\n",
    "from heteromodes.plotting import plot_brain\n",
    "\n",
    "den = \"4k\"\n",
    "fslr = fetch_atlas(\"fslr\", den)\n",
    "surf = fslr[\"inflated\"][0]\n",
    "medmask = nib.load(fslr[\"medial\"][0]).darrays[0].data.astype(bool)\n",
    "print(np.sum(medmask))"
   ]
  },
  {
   "cell_type": "code",
   "execution_count": null,
   "metadata": {},
   "outputs": [],
   "source": [
    "phase_maps = np.array(phase_maps).T\n",
    "fig = plot_brain(surf, phase_maps, labels=hmap_labels_plotting, clim_q=[5, 95], cbar=True,\n",
    "                 cbar_kws=dict(fontsize=25))\n",
    "plt.show()"
   ]
  },
  {
   "cell_type": "markdown",
   "metadata": {},
   "source": [
    "## Wave speed maps\n"
   ]
  },
  {
   "cell_type": "code",
   "execution_count": null,
   "metadata": {},
   "outputs": [],
   "source": [
    "# Plot c maps with best alpha\n",
    "hmap_data_orig, hmap_data_scaled = [], []\n",
    "for hmap_label in hmap_labels:\n",
    "    if hmap_label == \"None\":\n",
    "        hmap_data_orig.append(np.ones(len(medmask))*3.3524)\n",
    "        hmap_data_scaled.append(np.ones(len(medmask))*3.3524)\n",
    "        continue\n",
    "\n",
    "    hmap = load_hmap(hmap_label, den)\n",
    "    hmap_data_orig.append(unmask(hmap[medmask], medmask))\n",
    "\n",
    "    hmap_scaled = scale_hmap(hmap[medmask], alpha=alpha_best[hmap_label])\n",
    "    hmap_scaled = 3.3524 * np.sqrt(hmap_scaled) # Convert back to c_s\n",
    "    hmap_data_scaled.append(unmask(hmap_scaled, medmask))\n",
    "hmap_data_orig = np.array(hmap_data_orig).T\n",
    "hmap_data_scaled = np.array(hmap_data_scaled).T\n",
    "\n",
    "fig1 = plot_brain(surf, hmap_data_orig, labels=hmap_labels_plotting, clim_q=(5, 95), cbar=True,\n",
    "                  cbar_kws=dict(fontsize=25))\n",
    "fig2 = plot_brain(surf, hmap_data_scaled, labels=hmap_labels_plotting_alpha, clim_q=(5, 95), \n",
    "                  cbar=True, cbar_label=\"$c_s$ (m/s)\", cbar_kws=dict(fontsize=25, decimals=1))"
   ]
  }
 ],
 "metadata": {
  "kernelspec": {
   "display_name": "HeteroModes_py3.9",
   "language": "python",
   "name": "python3"
  },
  "language_info": {
   "codemirror_mode": {
    "name": "ipython",
    "version": 3
   },
   "file_extension": ".py",
   "mimetype": "text/x-python",
   "name": "python",
   "nbconvert_exporter": "python",
   "pygments_lexer": "ipython3",
   "version": "3.9.18"
  }
 },
 "nbformat": 4,
 "nbformat_minor": 2
}
