{
 "cells": [
  {
   "cell_type": "code",
   "execution_count": 12,
   "metadata": {},
   "outputs": [],
   "source": [
    "import seaborn as sns\n",
    "import h5py\n",
    "import numpy as np\n",
    "import matplotlib.pyplot as plt\n",
    "import json"
   ]
  },
  {
   "cell_type": "code",
   "execution_count": 2,
   "metadata": {},
   "outputs": [],
   "source": [
    "with open(f\"{PROJ_DIR}/scripts/model_rest/results_config.json\", \"r\") as f:\n",
    "    config = json.load(f)\n",
    "\n",
    "id = config[\"id\"]\n",
    "n_nulls = config[\"n_nulls\"]"
   ]
  },
  {
   "cell_type": "code",
   "execution_count": 26,
   "metadata": {},
   "outputs": [],
   "source": [
    "# Load homogeneous and myelinmap results\n",
    "hmap_labels = [\"None\", \"myelinmap\"]\n",
    "edge_fc_model, node_fc_model, fcd_model, obj_model = {}, {}, {}, {}\n",
    "for hmap_label in hmap_labels:\n",
    "    file = f\"{PROJ_DIR}/results/model_rest/group/id-{id}/{hmap_label}_results.hdf5\"\n",
    "\n",
    "    with h5py.File(file, 'r') as f:\n",
    "        edge_fc_model[hmap_label] = np.mean(np.array(f['edge_fc_test'][:]).flatten())\n",
    "        node_fc_model[hmap_label] = np.mean(np.array(f['node_fc_test'][:]).flatten())\n",
    "        fcd_model[hmap_label] = np.mean(np.array(f['phase_delay_test'][:]).flatten())\n",
    "        obj_model[hmap_label] = np.mean(np.array(f['combined_test'][:]).flatten())\n",
    "\n",
    "## Load null results\n",
    "edge_fc_null, node_fc_null, fcd_null, obj_null = [], [], [], []\n",
    "# Loop through null files\n",
    "for i in range(n_nulls):\n",
    "    # Append edge fc, node fc and fcd\n",
    "    file = f\"{PROJ_DIR}/results/model_rest/group/id-{id}/nulls/null-{i}_results.hdf5\"\n",
    "\n",
    "    try:\n",
    "        with h5py.File(file, 'r') as f:\n",
    "            edge_fc_null.append(np.mean(np.array(f['edge_fc_test'][:]).flatten()))\n",
    "            node_fc_null.append(np.mean(np.array(f['node_fc_test'][:]).flatten()))\n",
    "            fcd_null.append(np.mean(np.array(f['phase_delay_test'][:]).flatten()))\n",
    "            obj_null.append(np.mean(np.array(f['combined_test'][:]).flatten()))\n",
    "    except:\n",
    "        print(f\"File {file} not found\")\n",
    "        continue\n",
    "        \n",
    "# Convert to numpy arrays and average across runs/folds (each row)\n",
    "edge_fc_null = np.array(edge_fc_null)\n",
    "node_fc_null = np.array(node_fc_null)\n",
    "fcd_null = np.array(fcd_null)\n",
    "obj_null = np.array(obj_null)"
   ]
  },
  {
   "cell_type": "code",
   "execution_count": null,
   "metadata": {},
   "outputs": [],
   "source": [
    "# Plot distributions of edge fc, node fc and fcd. Plot vertical line marking homogeneous and myelinmap models\n",
    "fig, axs = plt.subplots(1, 3, figsize=(25, 5))\n",
    "\n",
    "p_edge = np.sum(edge_fc_null > edge_fc_model[\"myelinmap\"]) / len(edge_fc_null)\n",
    "axs[0].hist(edge_fc_null, bins=30, alpha=0.5, color='gray', label='Null')\n",
    "axs[0].axvline(edge_fc_model[\"None\"], color='blue', label='Homogeneous')\n",
    "axs[0].axvline(edge_fc_model[\"myelinmap\"], color='red', label='Myelinmap')\n",
    "axs[0].set_title(f\"Edge FC (p = {p_edge:.3f})\")\n",
    "axs[0].set_xlabel(\"Pearson's r\")\n",
    "axs[0].set_ylabel(\"Count\")\n",
    "axs[0].legend()\n",
    "\n",
    "p_node = np.sum(node_fc_null > node_fc_model[\"myelinmap\"]) / len(node_fc_null)\n",
    "axs[1].hist(node_fc_null.flatten(), bins=30, alpha=0.5, color='gray', label='Null')\n",
    "axs[1].axvline(node_fc_model[\"None\"], color='blue', label='Homogeneous')\n",
    "axs[1].axvline(node_fc_model[\"myelinmap\"], color='red', label='Myelinmap')\n",
    "axs[1].set_title(f\"Node FC (p = {p_node:.3f})\")\n",
    "axs[1].set_xlabel(\"Pearson's r\")\n",
    "axs[1].set_ylabel(\"Count\")\n",
    "axs[1].legend()\n",
    "\n",
    "p_fcd = np.sum(fcd_null > fcd_model[\"myelinmap\"]) / len(fcd_null)\n",
    "axs[2].hist(fcd_null, bins=30, alpha=0.5, color='gray', label='Null')\n",
    "axs[2].axvline(fcd_model[\"None\"], color='blue', label='Homogeneous')\n",
    "axs[2].axvline(fcd_model[\"myelinmap\"], color='red', label='Myelinmap')\n",
    "axs[2].set_title(f\"Phase (p = {p_fcd:.3f})\")\n",
    "axs[2].set_xlabel(\"Pearson's r\")\n",
    "axs[2].set_ylabel(\"Count\")\n",
    "axs[2].legend()"
   ]
  },
  {
   "cell_type": "code",
   "execution_count": null,
   "metadata": {},
   "outputs": [],
   "source": [
    "fig = plt.figure(figsize=(10, 5))\n",
    "\n",
    "p_obj = np.sum(obj_null > obj_model[\"myelinmap\"]) / len(obj_null)\n",
    "plt.hist(obj_null.flatten(), bins=30, alpha=0.5, color='gray', label='Null')\n",
    "plt.axvline(obj_model[\"None\"], color='blue', label='Homogeneous')\n",
    "plt.axvline(obj_model[\"myelinmap\"], color='red', label='Myelinmap')\n",
    "plt.ylabel(\"Count\")\n",
    "plt.legend()\n",
    "plt.title(f\"Combined metric (p = {p_obj:.3f})\")"
   ]
  }
 ],
 "metadata": {
  "kernelspec": {
   "display_name": "HeteroModes",
   "language": "python",
   "name": "python3"
  },
  "language_info": {
   "codemirror_mode": {
    "name": "ipython",
    "version": 3
   },
   "file_extension": ".py",
   "mimetype": "text/x-python",
   "name": "python",
   "nbconvert_exporter": "python",
   "pygments_lexer": "ipython3",
   "version": "3.8.19"
  }
 },
 "nbformat": 4,
 "nbformat_minor": 2
}
